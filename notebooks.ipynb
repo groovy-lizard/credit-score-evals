{
 "cells": [
  {
   "cell_type": "code",
   "execution_count": 25,
   "metadata": {},
   "outputs": [],
   "source": [
    "import os\n",
    "import pandas as pd"
   ]
  },
  {
   "cell_type": "code",
   "execution_count": 26,
   "metadata": {},
   "outputs": [],
   "source": [
    "df_dict = {}\n",
    "\n",
    "for dirname, _, filenames in os.walk('./data'):\n",
    "    for filename in filenames:\n",
    "        csv_path = os.path.join(dirname, filename)\n",
    "        df_name = csv_path.split('/')[-1].split('.')[0]\n",
    "        df_dict[df_name] = pd.read_csv(csv_path, sep=';', thousands='.')\n"
   ]
  },
  {
   "cell_type": "code",
   "execution_count": 27,
   "metadata": {},
   "outputs": [],
   "source": [
    "yearly_dict = {}\n",
    "\n",
    "for key, value in df_dict.items():\n",
    "    year = key[2:4]\n",
    "    yearly_dict[year] = {}\n",
    "\n",
    "for key, value in df_dict.items():\n",
    "    year = key[2:4]\n",
    "    month = key[-2:]\n",
    "    yearly_dict[year][month] = value"
   ]
  },
  {
   "cell_type": "code",
   "execution_count": 28,
   "metadata": {},
   "outputs": [],
   "source": [
    "yearly_dict = dict(sorted(yearly_dict.items()))"
   ]
  },
  {
   "cell_type": "code",
   "execution_count": 29,
   "metadata": {},
   "outputs": [
    {
     "name": "stdout",
     "output_type": "stream",
     "text": [
      "dict_keys(['14', '15', '16', '17', '18', '19', '20', '21', '22'])\n",
      "dict_keys(['06', '12', '09'])\n"
     ]
    }
   ],
   "source": [
    "print(yearly_dict.keys())\n",
    "print(yearly_dict['14'].keys())\n",
    "\n",
    "for year, month_dict in yearly_dict.items():\n",
    "    yearly_dict[year] = dict(sorted(month_dict.items()))"
   ]
  },
  {
   "cell_type": "code",
   "execution_count": 30,
   "metadata": {},
   "outputs": [],
   "source": [
    "drop_cols = ['Código', 'TCB', 'TD', 'TC', 'SR', 'Segmento', 'Cidade',\n",
    "       'UF', 'Data', 'Total Exterior', 'Unnamed: 21']\n",
    "\n",
    "\n",
    "for month_dict in yearly_dict.values():\n",
    "    for month_df in month_dict.values():\n",
    "        month_df.drop(columns=drop_cols, inplace=True)"
   ]
  },
  {
   "cell_type": "markdown",
   "metadata": {},
   "source": [
    "instituições (coluna A):\n",
    "- sicredi\n",
    "- sicoob\n",
    "- itau\n",
    "- banco do brasil\n",
    "- bradesco\n",
    "- caixa economica federal\n",
    "- santander"
   ]
  },
  {
   "cell_type": "code",
   "execution_count": 31,
   "metadata": {},
   "outputs": [],
   "source": [
    "insts = ['SICREDI', 'SICOOB', 'ITAU', 'BB', 'BRADESCO', 'CAIXA ECONOMICA FEDERAL', 'SANTANDER']"
   ]
  },
  {
   "cell_type": "code",
   "execution_count": 32,
   "metadata": {},
   "outputs": [],
   "source": [
    "month_df = yearly_dict['14']['06']"
   ]
  },
  {
   "cell_type": "code",
   "execution_count": 33,
   "metadata": {},
   "outputs": [],
   "source": [
    "for column in month_df.columns:\n",
    "    if 'I' not in column:\n",
    "        month_df[column] = month_df[column].str.replace('.', '')\n",
    "        month_df[column] = pd.to_numeric(month_df[column], errors='coerce')\n",
    "        month_df[column].dropna()"
   ]
  },
  {
   "cell_type": "code",
   "execution_count": 34,
   "metadata": {},
   "outputs": [
    {
     "data": {
      "text/html": [
       "<div>\n",
       "<style scoped>\n",
       "    .dataframe tbody tr th:only-of-type {\n",
       "        vertical-align: middle;\n",
       "    }\n",
       "\n",
       "    .dataframe tbody tr th {\n",
       "        vertical-align: top;\n",
       "    }\n",
       "\n",
       "    .dataframe thead th {\n",
       "        text-align: right;\n",
       "    }\n",
       "</style>\n",
       "<table border=\"1\" class=\"dataframe\">\n",
       "  <thead>\n",
       "    <tr style=\"text-align: right;\">\n",
       "      <th></th>\n",
       "      <th>Instituição</th>\n",
       "      <th>Total Geral</th>\n",
       "      <th>AA</th>\n",
       "      <th>A</th>\n",
       "      <th>B</th>\n",
       "      <th>C</th>\n",
       "      <th>D</th>\n",
       "      <th>E</th>\n",
       "      <th>F</th>\n",
       "      <th>G</th>\n",
       "      <th>H</th>\n",
       "    </tr>\n",
       "  </thead>\n",
       "  <tbody>\n",
       "    <tr>\n",
       "      <th>0</th>\n",
       "      <td>BB</td>\n",
       "      <td>611908236.0</td>\n",
       "      <td>331706772.0</td>\n",
       "      <td>83722350.0</td>\n",
       "      <td>101703169.0</td>\n",
       "      <td>19049090.0</td>\n",
       "      <td>3358464.0</td>\n",
       "      <td>8095892.0</td>\n",
       "      <td>3218540.0</td>\n",
       "      <td>2435374.0</td>\n",
       "      <td>12675652.0</td>\n",
       "    </tr>\n",
       "    <tr>\n",
       "      <th>1</th>\n",
       "      <td>CAIXA ECONOMICA FEDERAL</td>\n",
       "      <td>547316314.0</td>\n",
       "      <td>193604599.0</td>\n",
       "      <td>193878199.0</td>\n",
       "      <td>59466705.0</td>\n",
       "      <td>56182839.0</td>\n",
       "      <td>18131532.0</td>\n",
       "      <td>5564029.0</td>\n",
       "      <td>2606361.0</td>\n",
       "      <td>2062745.0</td>\n",
       "      <td>15819304.0</td>\n",
       "    </tr>\n",
       "    <tr>\n",
       "      <th>2</th>\n",
       "      <td>ITAU</td>\n",
       "      <td>465165956.0</td>\n",
       "      <td>150045738.0</td>\n",
       "      <td>110524669.0</td>\n",
       "      <td>26296642.0</td>\n",
       "      <td>14279656.0</td>\n",
       "      <td>6316519.0</td>\n",
       "      <td>3425416.0</td>\n",
       "      <td>2927360.0</td>\n",
       "      <td>2993473.0</td>\n",
       "      <td>11368812.0</td>\n",
       "    </tr>\n",
       "    <tr>\n",
       "      <th>3</th>\n",
       "      <td>BRADESCO</td>\n",
       "      <td>310086854.0</td>\n",
       "      <td>37258941.0</td>\n",
       "      <td>125398961.0</td>\n",
       "      <td>59799680.0</td>\n",
       "      <td>44351609.0</td>\n",
       "      <td>5836320.0</td>\n",
       "      <td>3152102.0</td>\n",
       "      <td>2731945.0</td>\n",
       "      <td>1893383.0</td>\n",
       "      <td>10017319.0</td>\n",
       "    </tr>\n",
       "    <tr>\n",
       "      <th>4</th>\n",
       "      <td>BANCO NACIONAL DE DESENVOLVIMENTO ECONOMICO E ...</td>\n",
       "      <td>293238497.0</td>\n",
       "      <td>110965903.0</td>\n",
       "      <td>100574144.0</td>\n",
       "      <td>71221403.0</td>\n",
       "      <td>9249429.0</td>\n",
       "      <td>123749.0</td>\n",
       "      <td>636624.0</td>\n",
       "      <td>70231.0</td>\n",
       "      <td>10517.0</td>\n",
       "      <td>386498.0</td>\n",
       "    </tr>\n",
       "  </tbody>\n",
       "</table>\n",
       "</div>"
      ],
      "text/plain": [
       "                                         Instituição  Total Geral  \\\n",
       "0                                                 BB  611908236.0   \n",
       "1                            CAIXA ECONOMICA FEDERAL  547316314.0   \n",
       "2                                               ITAU  465165956.0   \n",
       "3                                           BRADESCO  310086854.0   \n",
       "4  BANCO NACIONAL DE DESENVOLVIMENTO ECONOMICO E ...  293238497.0   \n",
       "\n",
       "            AA            A            B           C           D          E  \\\n",
       "0  331706772.0   83722350.0  101703169.0  19049090.0   3358464.0  8095892.0   \n",
       "1  193604599.0  193878199.0   59466705.0  56182839.0  18131532.0  5564029.0   \n",
       "2  150045738.0  110524669.0   26296642.0  14279656.0   6316519.0  3425416.0   \n",
       "3   37258941.0  125398961.0   59799680.0  44351609.0   5836320.0  3152102.0   \n",
       "4  110965903.0  100574144.0   71221403.0   9249429.0    123749.0   636624.0   \n",
       "\n",
       "           F          G           H  \n",
       "0  3218540.0  2435374.0  12675652.0  \n",
       "1  2606361.0  2062745.0  15819304.0  \n",
       "2  2927360.0  2993473.0  11368812.0  \n",
       "3  2731945.0  1893383.0  10017319.0  \n",
       "4    70231.0    10517.0    386498.0  "
      ]
     },
     "execution_count": 34,
     "metadata": {},
     "output_type": "execute_result"
    }
   ],
   "source": [
    "month_df.head()"
   ]
  }
 ],
 "metadata": {
  "kernelspec": {
   "display_name": "base",
   "language": "python",
   "name": "python3"
  },
  "language_info": {
   "codemirror_mode": {
    "name": "ipython",
    "version": 3
   },
   "file_extension": ".py",
   "mimetype": "text/x-python",
   "name": "python",
   "nbconvert_exporter": "python",
   "pygments_lexer": "ipython3",
   "version": "3.11.7"
  }
 },
 "nbformat": 4,
 "nbformat_minor": 2
}
